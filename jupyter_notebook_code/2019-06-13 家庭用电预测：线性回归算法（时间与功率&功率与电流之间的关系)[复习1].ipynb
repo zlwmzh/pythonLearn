{
 "cells": [
  {
   "cell_type": "code",
   "execution_count": 11,
   "metadata": {
    "collapsed": true
   },
   "outputs": [],
   "source": [
    "import pandas as pd\n",
    "import numpy as np\n",
    "import matplotlib as mpl\n",
    "import matplotlib.pyplot as plt\n",
    "import time\n",
    "from sklearn.model_selection import train_test_split\n",
    "from sklearn.linear_model import LinearRegression\n",
    "from sklearn.linear_model import SGDRegressor"
   ]
  },
  {
   "cell_type": "code",
   "execution_count": 12,
   "metadata": {
    "collapsed": true
   },
   "outputs": [],
   "source": [
    "## 设置字符集，防止中文乱码\n",
    "mpl.rcParams['font.sans-serif']=[u'simHei']\n",
    "mpl.rcParams['axes.unicode_minus']=False"
   ]
  },
  {
   "cell_type": "code",
   "execution_count": 13,
   "metadata": {
    "collapsed": true
   },
   "outputs": [],
   "source": [
    "# 数据加载\n",
    "power = pd.read_csv(filepath_or_buffer='datas/household_power_consumption_1000.txt',sep=';')"
   ]
  },
  {
   "cell_type": "code",
   "execution_count": 14,
   "metadata": {},
   "outputs": [
    {
     "data": {
      "text/html": [
       "<div>\n",
       "<style>\n",
       "    .dataframe thead tr:only-child th {\n",
       "        text-align: right;\n",
       "    }\n",
       "\n",
       "    .dataframe thead th {\n",
       "        text-align: left;\n",
       "    }\n",
       "\n",
       "    .dataframe tbody tr th {\n",
       "        vertical-align: top;\n",
       "    }\n",
       "</style>\n",
       "<table border=\"1\" class=\"dataframe\">\n",
       "  <thead>\n",
       "    <tr style=\"text-align: right;\">\n",
       "      <th></th>\n",
       "      <th>Date</th>\n",
       "      <th>Time</th>\n",
       "      <th>Global_active_power</th>\n",
       "      <th>Global_reactive_power</th>\n",
       "      <th>Voltage</th>\n",
       "      <th>Global_intensity</th>\n",
       "      <th>Sub_metering_1</th>\n",
       "      <th>Sub_metering_2</th>\n",
       "      <th>Sub_metering_3</th>\n",
       "    </tr>\n",
       "  </thead>\n",
       "  <tbody>\n",
       "    <tr>\n",
       "      <th>0</th>\n",
       "      <td>16/12/2006</td>\n",
       "      <td>17:24:00</td>\n",
       "      <td>4.216</td>\n",
       "      <td>0.418</td>\n",
       "      <td>234.84</td>\n",
       "      <td>18.4</td>\n",
       "      <td>0.0</td>\n",
       "      <td>1.0</td>\n",
       "      <td>17.0</td>\n",
       "    </tr>\n",
       "    <tr>\n",
       "      <th>1</th>\n",
       "      <td>16/12/2006</td>\n",
       "      <td>17:25:00</td>\n",
       "      <td>5.360</td>\n",
       "      <td>0.436</td>\n",
       "      <td>233.63</td>\n",
       "      <td>23.0</td>\n",
       "      <td>0.0</td>\n",
       "      <td>1.0</td>\n",
       "      <td>16.0</td>\n",
       "    </tr>\n",
       "    <tr>\n",
       "      <th>2</th>\n",
       "      <td>16/12/2006</td>\n",
       "      <td>17:26:00</td>\n",
       "      <td>5.374</td>\n",
       "      <td>0.498</td>\n",
       "      <td>233.29</td>\n",
       "      <td>23.0</td>\n",
       "      <td>0.0</td>\n",
       "      <td>2.0</td>\n",
       "      <td>17.0</td>\n",
       "    </tr>\n",
       "    <tr>\n",
       "      <th>3</th>\n",
       "      <td>16/12/2006</td>\n",
       "      <td>17:27:00</td>\n",
       "      <td>5.388</td>\n",
       "      <td>0.502</td>\n",
       "      <td>233.74</td>\n",
       "      <td>23.0</td>\n",
       "      <td>0.0</td>\n",
       "      <td>1.0</td>\n",
       "      <td>17.0</td>\n",
       "    </tr>\n",
       "    <tr>\n",
       "      <th>4</th>\n",
       "      <td>16/12/2006</td>\n",
       "      <td>17:28:00</td>\n",
       "      <td>3.666</td>\n",
       "      <td>0.528</td>\n",
       "      <td>235.68</td>\n",
       "      <td>15.8</td>\n",
       "      <td>0.0</td>\n",
       "      <td>1.0</td>\n",
       "      <td>17.0</td>\n",
       "    </tr>\n",
       "  </tbody>\n",
       "</table>\n",
       "</div>"
      ],
      "text/plain": [
       "         Date      Time  Global_active_power  Global_reactive_power  Voltage  \\\n",
       "0  16/12/2006  17:24:00                4.216                  0.418   234.84   \n",
       "1  16/12/2006  17:25:00                5.360                  0.436   233.63   \n",
       "2  16/12/2006  17:26:00                5.374                  0.498   233.29   \n",
       "3  16/12/2006  17:27:00                5.388                  0.502   233.74   \n",
       "4  16/12/2006  17:28:00                3.666                  0.528   235.68   \n",
       "\n",
       "   Global_intensity  Sub_metering_1  Sub_metering_2  Sub_metering_3  \n",
       "0              18.4             0.0             1.0            17.0  \n",
       "1              23.0             0.0             1.0            16.0  \n",
       "2              23.0             0.0             2.0            17.0  \n",
       "3              23.0             0.0             1.0            17.0  \n",
       "4              15.8             0.0             1.0            17.0  "
      ]
     },
     "execution_count": 14,
     "metadata": {},
     "output_type": "execute_result"
    }
   ],
   "source": [
    "# 数据清洗、处理\n",
    "power = power.dropna(axis=0,how='any') # 只要某一行有空数据，就进行行删除操作\n",
    "power.head()"
   ]
  },
  {
   "cell_type": "code",
   "execution_count": 15,
   "metadata": {
    "collapsed": true
   },
   "outputs": [],
   "source": [
    "def timeFormat(t):\n",
    "    tp = time.strptime(' '.join(t),'%d/%m/%Y %H:%M:%S')\n",
    "    return (tp.tm_year,tp.tm_mon,tp.tm_mday,tp.tm_hour,tp.tm_min,tp.tm_sec)"
   ]
  },
  {
   "cell_type": "code",
   "execution_count": 16,
   "metadata": {},
   "outputs": [
    {
     "name": "stdout",
     "output_type": "stream",
     "text": [
      "线性回归效果mse：1.2872984834436911\n",
      "线性回归效果rmse：1.1345917695117003\n",
      "线性回归效果Score：0.11863062599031693\n",
      "线性回归参数：\n",
      "[  0.00000000e+00  -2.28983499e-16  -2.76913422e+00  -1.06249822e-01\n",
      "  -5.10649205e-03   0.00000000e+00]\n",
      "线性回归截距项：\n",
      "49.6661902692\n"
     ]
    }
   ],
   "source": [
    "# 时间与功率\n",
    "# 将时间（年、月、日、时、分、秒）看成特征属性 功率看出目标属性\n",
    "date = power.iloc[:,:2]\n",
    "X = date.apply(lambda x: pd.Series(timeFormat(x)),axis=1)\n",
    "Y = power['Global_active_power']\n",
    "\n",
    "# 训练集和测试集划分\n",
    "X_train, X_test, Y_train, Y_test = train_test_split(X, Y, test_size = 0.2 ,random_state = 214)\n",
    "\n",
    "# 创建模型对象\n",
    "linear_model = LinearRegression(fit_intercept=True)\n",
    "# 模型训练\n",
    "linear_model.fit(X_train, Y_train)\n",
    "# 模型效果评估\n",
    "# mse 越趋近与0效果越好\n",
    "Y_predict = linear_model.predict(X_test)\n",
    "mse = np.sum((Y_predict - Y_test)**2) /len(Y_predict)\n",
    "print('线性回归效果mse：{}'.format(mse))\n",
    "# rmse越趋近与0效果越好\n",
    "rmse = np.sqrt(mse)\n",
    "print('线性回归效果rmse：{}'.format(rmse))\n",
    "# R2 最优解为1，\n",
    "r2 = 1 - np.sum((Y_predict - Y_test)**2) / np.sum((Y_predict- np.mean(Y_test))**2)\n",
    "r2\n",
    "print('线性回归效果Score：{}'.format(linear_model.score(X_test,Y_test)))\n",
    "print('线性回归参数：')\n",
    "print(linear_model.coef_)\n",
    "print('线性回归截距项：')\n",
    "print(linear_model.intercept_)"
   ]
  },
  {
   "cell_type": "code",
   "execution_count": 7,
   "metadata": {},
   "outputs": [
    {
     "name": "stdout",
     "output_type": "stream",
     "text": [
      "[  1.25620161e+15   1.25705627e+15   1.30046042e+15   1.29945158e+15\n",
      "   1.25821931e+15   1.25314914e+15   1.33196303e+15   1.26590534e+15\n",
      "   1.31107681e+15   1.22174271e+15   1.31101269e+15   1.27841117e+15\n",
      "   1.28780041e+15   1.28005025e+15   1.22063768e+15   1.30241399e+15\n",
      "   1.22816953e+15   1.28596896e+15   1.28508836e+15   1.31098063e+15\n",
      "   1.28682362e+15   1.31391098e+15   1.32351852e+15   1.32333228e+15\n",
      "   1.29740795e+15   1.24095779e+15   1.32430906e+15   1.21975708e+15\n",
      "   1.29085288e+15   1.29167548e+15   1.31655891e+15   1.25031496e+15\n",
      "   1.27349519e+15   1.24458250e+15   1.29661741e+15   1.24672232e+15\n",
      "   1.26388765e+15   1.23988482e+15   1.32808796e+15   1.26391971e+15\n",
      "   1.27916965e+15   1.30146927e+15   1.24546310e+15   1.30238193e+15\n",
      "   1.29926533e+15   1.22268743e+15   1.28294854e+15   1.24067536e+15\n",
      "   1.30524816e+15   1.23223085e+15   1.26083517e+15   1.28874513e+15\n",
      "   1.22741105e+15   1.25245478e+15   1.26105348e+15   1.25122763e+15\n",
      "   1.24086161e+15   1.31589661e+15   1.24659407e+15   1.25721046e+15\n",
      "   1.29280645e+15   1.22552160e+15   1.21021366e+15   1.32528585e+15\n",
      "   1.31759981e+15   1.21881236e+15   1.27047477e+15   1.31296626e+15\n",
      "   1.30121890e+15   1.23509708e+15   1.30821058e+15   1.30118684e+15\n",
      "   1.23030934e+15   1.33961701e+15   1.22640220e+15   1.23305345e+15\n",
      "   1.22841990e+15   1.32046605e+15   1.33202716e+15   1.23298933e+15\n",
      "   1.28581478e+15   1.21018160e+15   1.28011437e+15   1.32137871e+15\n",
      "   1.31564625e+15   1.32720736e+15   1.27529457e+15   1.28298060e+15\n",
      "   1.30049249e+15   1.32912886e+15   1.25803306e+15   1.32616645e+15\n",
      "   1.32714323e+15   1.25129175e+15   1.28026856e+15   1.24187045e+15\n",
      "   1.27246040e+15   1.23698653e+15   1.21399255e+15   1.33290776e+15\n",
      "   1.23777707e+15   1.31470152e+15   1.26949799e+15   1.31013209e+15\n",
      "   1.25699215e+15   1.30030624e+15   1.21692291e+15   1.31485571e+15\n",
      "   1.23708271e+15   1.31869872e+15   1.23991688e+15   1.24259687e+15\n",
      "   1.26102141e+15   1.22545748e+15   1.29542232e+15   1.31180323e+15\n",
      "   1.29375118e+15   1.28893138e+15   1.33293982e+15   1.29853892e+15\n",
      "   1.32439912e+15   1.25989044e+15   1.22460894e+15   1.22737899e+15\n",
      "   1.26297498e+15   1.21490522e+15   1.27938796e+15   1.27145156e+15\n",
      "   1.25223647e+15   1.28109116e+15   1.27453609e+15   1.24382402e+15\n",
      "   1.30528023e+15   1.31583249e+15   1.21298371e+15   1.23878592e+15\n",
      "   1.28102704e+15   1.23024522e+15   1.25815518e+15   1.25419004e+15\n",
      "   1.30408513e+15   1.25825137e+15   1.22939668e+15   1.32537591e+15\n",
      "   1.32818414e+15   1.32424494e+15   1.21783557e+15   1.23591968e+15\n",
      "   1.31964345e+15   1.31851248e+15   1.21588200e+15   1.28319891e+15\n",
      "   1.29469590e+15   1.30052455e+15   1.23607387e+15   1.20826009e+15\n",
      "   1.31677721e+15   1.30314041e+15   1.29450965e+15   1.31287007e+15\n",
      "   1.24190252e+15   1.29476002e+15   1.30905912e+15   1.30423932e+15\n",
      "   1.28395739e+15   1.29936152e+15   1.22921044e+15   1.24070742e+15\n",
      "   1.29371912e+15   1.24089367e+15   1.26184401e+15   1.24839346e+15\n",
      "   1.33583811e+15   1.27554494e+15   1.23408824e+15   1.21786763e+15\n",
      "   1.26953005e+15   1.23393405e+15   1.26376552e+15   1.27157368e+15\n",
      "   1.24287930e+15   1.25714634e+15   1.29164342e+15   1.28490211e+15\n",
      "   1.32254174e+15   1.25318120e+15   1.23780913e+15   1.22451276e+15\n",
      "   1.31948926e+15   1.25995457e+15   1.22164653e+15   1.24662613e+15\n",
      "   1.21969296e+15   1.30890494e+15   1.24766704e+15   1.33587017e+15\n",
      "   1.23109988e+15   1.24744873e+15   1.23894010e+15   1.28008231e+15]\n",
      "梯度下降模型效果：-1.1109150478047813e+30\n",
      "[  6.01954793e+11   3.60092598e+09  -7.02459878e+10   9.44723381e+11\n",
      "   1.92150824e+12   0.00000000e+00]\n"
     ]
    }
   ],
   "source": [
    "# 利用梯度下降来做\n",
    "sgd_model = SGDRegressor(max_iter=100)\n",
    "sgd_model.fit(X_train, Y_train)\n",
    "predict_sgd = sgd_model.predict(X_test)\n",
    "print(predict_sgd)\n",
    "print('梯度下降模型效果：{}'.format(sgd_model.score(X_test,Y_test)))\n",
    "print(sgd_model.coef_)"
   ]
  },
  {
   "cell_type": "code",
   "execution_count": 17,
   "metadata": {},
   "outputs": [
    {
     "data": {
      "image/png": "[encoded data removed]",
      "text/plain": [
       "<matplotlib.figure.Figure at 0x2f355071400>"
      ]
     },
     "metadata": {},
     "output_type": "display_data"
    }
   ],
   "source": [
    "x_show = np.arange(len(X_test))\n",
    "plt.plot(x_show,Y_test,c='g',linewidth=2,label = '真实值')\n",
    "plt.plot(x_show,Y_predict,c='r',linewidth=2,label = '线性回归预测值')\n",
    "\n",
    "plt.legend()\n",
    "plt.title(\"线性回归预测时间和功率之间的关系\", fontsize=20)\n",
    "plt.grid(b=True)#加网格\n",
    "plt.show()"
   ]
  },
  {
   "cell_type": "code",
   "execution_count": null,
   "metadata": {
    "collapsed": true
   },
   "outputs": [],
   "source": []
  }
 ],
 "metadata": {
  "kernelspec": {
   "display_name": "Python 3",
   "language": "python",
   "name": "python3"
  },
  "language_info": {
   "codemirror_mode": {
    "name": "ipython",
    "version": 3
   },
   "file_extension": ".py",
   "mimetype": "text/x-python",
   "name": "python",
   "nbconvert_exporter": "python",
   "pygments_lexer": "ipython3",
   "version": "3.6.3"
  },
  "toc": {
   "base_numbering": 1,
   "nav_menu": {},
   "number_sections": true,
   "sideBar": true,
   "skip_h1_title": false,
   "title_cell": "Table of Contents",
   "title_sidebar": "Contents",
   "toc_cell": false,
   "toc_position": {},
   "toc_section_display": true,
   "toc_window_display": false
  }
 },
 "nbformat": 4,
 "nbformat_minor": 2
}

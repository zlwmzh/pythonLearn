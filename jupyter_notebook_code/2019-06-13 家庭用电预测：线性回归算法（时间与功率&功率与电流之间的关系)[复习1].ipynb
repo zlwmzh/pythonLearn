{
 "cells": [
  {
   "cell_type": "code",
   "execution_count": 16,
   "metadata": {
    "collapsed": true
   },
   "outputs": [],
   "source": [
    "import pandas as pd\n",
    "import numpy as np\n",
    "import matplotlib as mpl\n",
    "import matplotlib.pyplot as plt\n",
    "import time\n",
    "from sklearn.model_selection import train_test_split\n",
    "from sklearn.linear_model import LinearRegression\n",
    "from sklearn.linear_model import SGDRegressor"
   ]
  },
  {
   "cell_type": "code",
   "execution_count": 17,
   "metadata": {
    "collapsed": true
   },
   "outputs": [],
   "source": [
    "## 设置字符集，防止中文乱码\n",
    "mpl.rcParams['font.sans-serif']=[u'simHei']\n",
    "mpl.rcParams['axes.unicode_minus']=False"
   ]
  },
  {
   "cell_type": "code",
   "execution_count": 2,
   "metadata": {
    "collapsed": true
   },
   "outputs": [],
   "source": [
    "# 数据加载\n",
    "power = pd.read_csv(filepath_or_buffer='datas/household_power_consumption_1000.txt',sep=';')"
   ]
  },
  {
   "cell_type": "code",
   "execution_count": 3,
   "metadata": {},
   "outputs": [
    {
     "data": {
      "text/html": [
       "<div>\n",
       "<style>\n",
       "    .dataframe thead tr:only-child th {\n",
       "        text-align: right;\n",
       "    }\n",
       "\n",
       "    .dataframe thead th {\n",
       "        text-align: left;\n",
       "    }\n",
       "\n",
       "    .dataframe tbody tr th {\n",
       "        vertical-align: top;\n",
       "    }\n",
       "</style>\n",
       "<table border=\"1\" class=\"dataframe\">\n",
       "  <thead>\n",
       "    <tr style=\"text-align: right;\">\n",
       "      <th></th>\n",
       "      <th>Date</th>\n",
       "      <th>Time</th>\n",
       "      <th>Global_active_power</th>\n",
       "      <th>Global_reactive_power</th>\n",
       "      <th>Voltage</th>\n",
       "      <th>Global_intensity</th>\n",
       "      <th>Sub_metering_1</th>\n",
       "      <th>Sub_metering_2</th>\n",
       "      <th>Sub_metering_3</th>\n",
       "    </tr>\n",
       "  </thead>\n",
       "  <tbody>\n",
       "    <tr>\n",
       "      <th>0</th>\n",
       "      <td>16/12/2006</td>\n",
       "      <td>17:24:00</td>\n",
       "      <td>4.216</td>\n",
       "      <td>0.418</td>\n",
       "      <td>234.84</td>\n",
       "      <td>18.4</td>\n",
       "      <td>0.0</td>\n",
       "      <td>1.0</td>\n",
       "      <td>17.0</td>\n",
       "    </tr>\n",
       "    <tr>\n",
       "      <th>1</th>\n",
       "      <td>16/12/2006</td>\n",
       "      <td>17:25:00</td>\n",
       "      <td>5.360</td>\n",
       "      <td>0.436</td>\n",
       "      <td>233.63</td>\n",
       "      <td>23.0</td>\n",
       "      <td>0.0</td>\n",
       "      <td>1.0</td>\n",
       "      <td>16.0</td>\n",
       "    </tr>\n",
       "    <tr>\n",
       "      <th>2</th>\n",
       "      <td>16/12/2006</td>\n",
       "      <td>17:26:00</td>\n",
       "      <td>5.374</td>\n",
       "      <td>0.498</td>\n",
       "      <td>233.29</td>\n",
       "      <td>23.0</td>\n",
       "      <td>0.0</td>\n",
       "      <td>2.0</td>\n",
       "      <td>17.0</td>\n",
       "    </tr>\n",
       "    <tr>\n",
       "      <th>3</th>\n",
       "      <td>16/12/2006</td>\n",
       "      <td>17:27:00</td>\n",
       "      <td>5.388</td>\n",
       "      <td>0.502</td>\n",
       "      <td>233.74</td>\n",
       "      <td>23.0</td>\n",
       "      <td>0.0</td>\n",
       "      <td>1.0</td>\n",
       "      <td>17.0</td>\n",
       "    </tr>\n",
       "    <tr>\n",
       "      <th>4</th>\n",
       "      <td>16/12/2006</td>\n",
       "      <td>17:28:00</td>\n",
       "      <td>3.666</td>\n",
       "      <td>0.528</td>\n",
       "      <td>235.68</td>\n",
       "      <td>15.8</td>\n",
       "      <td>0.0</td>\n",
       "      <td>1.0</td>\n",
       "      <td>17.0</td>\n",
       "    </tr>\n",
       "  </tbody>\n",
       "</table>\n",
       "</div>"
      ],
      "text/plain": [
       "         Date      Time  Global_active_power  Global_reactive_power  Voltage  \\\n",
       "0  16/12/2006  17:24:00                4.216                  0.418   234.84   \n",
       "1  16/12/2006  17:25:00                5.360                  0.436   233.63   \n",
       "2  16/12/2006  17:26:00                5.374                  0.498   233.29   \n",
       "3  16/12/2006  17:27:00                5.388                  0.502   233.74   \n",
       "4  16/12/2006  17:28:00                3.666                  0.528   235.68   \n",
       "\n",
       "   Global_intensity  Sub_metering_1  Sub_metering_2  Sub_metering_3  \n",
       "0              18.4             0.0             1.0            17.0  \n",
       "1              23.0             0.0             1.0            16.0  \n",
       "2              23.0             0.0             2.0            17.0  \n",
       "3              23.0             0.0             1.0            17.0  \n",
       "4              15.8             0.0             1.0            17.0  "
      ]
     },
     "execution_count": 3,
     "metadata": {},
     "output_type": "execute_result"
    }
   ],
   "source": [
    "# 数据清洗、处理\n",
    "power = power.dropna(axis=0,how='any') # 只要某一行有空数据，就进行行删除操作\n",
    "power.head()"
   ]
  },
  {
   "cell_type": "code",
   "execution_count": 4,
   "metadata": {
    "collapsed": true
   },
   "outputs": [],
   "source": [
    "def timeFormat(t):\n",
    "    tp = time.strptime(' '.join(t),'%d/%m/%Y %H:%M:%S')\n",
    "    return (tp.tm_year,tp.tm_mon,tp.tm_mday,tp.tm_hour,tp.tm_min,tp.tm_sec)"
   ]
  },
  {
   "cell_type": "code",
   "execution_count": 30,
   "metadata": {},
   "outputs": [
    {
     "name": "stdout",
     "output_type": "stream",
     "text": [
      "线性回归效果mse：1.2872984834436894\n",
      "线性回归效果rmse：1.1345917695116994\n",
      "线性回归效果Score：0.11863062599031803\n",
      "线性回归参数：\n",
      "[  0.00000000e+00   2.98372438e-16  -2.76913422e+00  -1.06249822e-01\n",
      "  -5.10649205e-03   0.00000000e+00]\n",
      "线性回归截距项：\n",
      "49.6661902692\n"
     ]
    }
   ],
   "source": [
    "# 时间与功率\n",
    "# 将时间（年、月、日、时、分、秒）看成特征属性 功率看出目标属性\n",
    "date = power.iloc[:,:2]\n",
    "X = date.apply(lambda x: pd.Series(timeFormat(x)),axis=1)\n",
    "Y = power['Global_active_power']\n",
    "\n",
    "# 训练集和测试集划分\n",
    "X_train, X_test, Y_train, Y_test = train_test_split(X, Y, test_size = 0.2 ,random_state = 214)\n",
    "\n",
    "# 创建模型对象\n",
    "linear_model = LinearRegression(fit_intercept=True)\n",
    "# 模型训练\n",
    "linear_model.fit(X_train, Y_train)\n",
    "# 模型效果评估\n",
    "# mse 越趋近与0效果越好\n",
    "Y_predict = linear_model.predict(X_test)\n",
    "mse = np.sum((Y_predict - Y_test)**2) /len(Y_predict)\n",
    "print('线性回归效果mse：{}'.format(mse))\n",
    "# rmse越趋近与0效果越好\n",
    "rmse = np.sqrt(mse)\n",
    "print('线性回归效果rmse：{}'.format(rmse))\n",
    "# R2 最优解为1，\n",
    "r2 = 1 - np.sum((Y_predict - Y_test)**2) / np.sum((Y_predict- np.mean(Y_test))**2)\n",
    "r2\n",
    "print('线性回归效果Score：{}'.format(linear_model.score(X_test,Y_test)))\n",
    "print('线性回归参数：')\n",
    "print(linear_model.coef_)\n",
    "print('线性回归截距项：')\n",
    "print(linear_model.intercept_)"
   ]
  },
  {
   "cell_type": "code",
   "execution_count": 60,
   "metadata": {},
   "outputs": [
    {
     "name": "stdout",
     "output_type": "stream",
     "text": [
      "[  9.89780763e+14   1.01422560e+15   1.07608910e+15   1.08008360e+15\n",
      "   9.81791760e+14   1.01408089e+15   1.17827445e+15   9.98203881e+14\n",
      "   1.09260975e+15   8.99803511e+14   1.10067110e+15   1.02285824e+15\n",
      "   1.07987408e+15   1.07152331e+15   9.15890044e+14   1.07616145e+15\n",
      "   9.60741499e+14   1.05539307e+15   1.04326486e+15   1.10470178e+15\n",
      "   1.07983790e+15   1.10481031e+15   1.12532546e+15   1.15779547e+15\n",
      "   1.10038923e+15   9.40833812e+14   1.15783165e+15   9.03761835e+14\n",
      "   1.05557395e+15   1.08404946e+15   1.14948088e+15   1.00188033e+15\n",
      "   1.02670803e+15   9.85540561e+14   1.06788304e+15   9.53142902e+14\n",
      "   1.00619288e+15   9.52889668e+14   1.17409906e+15   1.00216221e+15\n",
      "   1.05939510e+15   1.07209460e+15   9.97668770e+14   1.08019213e+15\n",
      "   1.11255361e+15   9.03870364e+14   1.07566252e+15   9.85395856e+14\n",
      "   1.08836201e+15   9.32446870e+14   1.03049301e+15   1.08394093e+15\n",
      "   9.24204633e+14   9.69482670e+14   9.93992322e+14   1.00997786e+15\n",
      "   9.52925844e+14   1.10085199e+15   9.69265612e+14   9.85786261e+14\n",
      "   1.05564630e+15   9.16070926e+14   8.75185330e+14   1.15786783e+15\n",
      "   1.14145570e+15   8.99694982e+14   1.04697748e+15   1.10074346e+15\n",
      "   1.11262597e+15   9.40616754e+14   1.08443987e+15   1.11665664e+15\n",
      "   9.28343840e+14   1.19871724e+15   9.28199135e+14   9.60922380e+14\n",
      "   9.20210132e+14   1.14962559e+15   1.17021309e+15   9.68983735e+14\n",
      "   1.08383240e+15   8.79216007e+14   1.06346196e+15   1.15772312e+15\n",
      "   1.14138335e+15   1.16197086e+15   1.05521972e+15   1.07163184e+15\n",
      "   1.07205842e+15   1.16607389e+15   1.01426177e+15   1.16999603e+15\n",
      "   1.17003221e+15   1.00191651e+15   1.03502262e+15   9.48931343e+14\n",
      "   1.04301916e+15   9.48750461e+14   8.91452745e+14   1.18234130e+15\n",
      "   9.81256649e+14   1.13731650e+15   1.04694131e+15   1.08854290e+15\n",
      "   1.02228695e+15   1.10452843e+15   8.91561274e+14   1.10887716e+15\n",
      "   9.36658429e+14   1.11708322e+15   9.48858990e+14   9.89498886e+14\n",
      "   9.98022999e+14   9.24132281e+14   1.10434755e+15   1.13317729e+15\n",
      "   1.05971316e+15   1.05147092e+15   1.17831062e+15   1.07198607e+15\n",
      "   1.13745367e+15   1.02642616e+15   9.07973394e+14   9.28235311e+14\n",
      "   9.98095352e+14   8.99550277e+14   1.02289441e+15   1.04701366e+15\n",
      "   1.00598336e+15   1.06349813e+15   1.01868285e+15   9.49003696e+14\n",
      "   1.08433134e+15   1.10891334e+15   8.95447246e+14   9.77262148e+14\n",
      "   1.07155949e+15   9.36405195e+14   9.89853115e+14   1.00605571e+15\n",
      "   1.12079585e+15   9.77761083e+14   9.20246308e+14   1.13748985e+15\n",
      "   1.16200703e+15   1.16589300e+15   8.99658805e+14   9.69092264e+14\n",
      "   1.12115008e+15   1.14955324e+15   8.99586453e+14   1.03513115e+15\n",
      "   1.06378001e+15   1.06802774e+15   9.40652930e+14   8.75112977e+14\n",
      "   1.11298019e+15   1.11672900e+15   1.09625002e+15   1.11283549e+15\n",
      "   9.44900665e+14   1.05571865e+15   1.10059875e+15   1.09235652e+15\n",
      "   1.07166802e+15   1.10046158e+15   9.52716320e+14   9.81365178e+14\n",
      "   1.06374383e+15   9.48895167e+14   1.02649851e+15   9.97777299e+14\n",
      "   1.18244983e+15   1.01468835e+15   9.44611255e+14   8.95628128e+14\n",
      "   1.04291063e+15   9.73050589e+14   1.03060154e+15   1.02260500e+15\n",
      "   9.44936842e+14   9.93847616e+14   1.08808014e+15   1.07573487e+15\n",
      "   1.12528928e+15   1.01005021e+15   9.77225972e+14   9.20065427e+14\n",
      "   1.14958941e+15   1.01836480e+15   9.11895543e+14   9.65234934e+14\n",
      "   9.11823191e+14   1.12903809e+15   9.57209756e+14   1.17841915e+15\n",
      "   9.60850028e+14   9.93710445e+14   9.48822814e+14   1.06749263e+15]\n",
      "梯度下降模型效果：-7.361990711347355e+29\n",
      "[  4.34080732e+11   2.59669431e+09  -2.24591361e+11   4.06685382e+12\n",
      "   4.10303011e+12   0.00000000e+00]\n"
     ]
    }
   ],
   "source": [
    "# 利用梯度下降来做\n",
    "sgd_model = SGDRegressor(max_iter=100)\n",
    "sgd_model.fit(X_train, Y_train)\n",
    "predict_sgd = sgd_model.predict(X_test)\n",
    "print(predict_sgd)\n",
    "print('梯度下降模型效果：{}'.format(sgd_model.score(X_test,Y_test)))\n",
    "print(sgd_model.coef_)"
   ]
  },
  {
   "cell_type": "code",
   "execution_count": 59,
   "metadata": {},
   "outputs": [
    {
     "data": {
      "image/png": "[encoded data removed]",
      "text/plain": [
       "<matplotlib.figure.Figure at 0x2564a57db70>"
      ]
     },
     "metadata": {},
     "output_type": "display_data"
    }
   ],
   "source": [
    "\n",
    "x_show = np.arange(len(X_test))\n",
    "plt.plot(x_show,Y_test,c='g',linewidth=2,label = '真实值')\n",
    "plt.plot(x_show,predict_sgd,c='black',linewidth=2,label = '梯度下降预测值')\n",
    "plt.plot(x_show,Y_predict,c='r',linewidth=2,label = '线性回归预测值')\n",
    "\n",
    "plt.ylim(0,10)\n",
    "plt.legend()\n",
    "plt.title(\"线性回归预测时间和功率之间的关系\", fontsize=20)\n",
    "plt.grid(b=True)#加网格\n",
    "plt.show()"
   ]
  }
 ],
 "metadata": {
  "kernelspec": {
   "display_name": "Python 3",
   "language": "python",
   "name": "python3"
  },
  "language_info": {
   "codemirror_mode": {
    "name": "ipython",
    "version": 3
   },
   "file_extension": ".py",
   "mimetype": "text/x-python",
   "name": "python",
   "nbconvert_exporter": "python",
   "pygments_lexer": "ipython3",
   "version": "3.6.3"
  },
  "toc": {
   "base_numbering": 1,
   "nav_menu": {},
   "number_sections": true,
   "sideBar": true,
   "skip_h1_title": false,
   "title_cell": "Table of Contents",
   "title_sidebar": "Contents",
   "toc_cell": false,
   "toc_position": {},
   "toc_section_display": true,
   "toc_window_display": false
  }
 },
 "nbformat": 4,
 "nbformat_minor": 2
}

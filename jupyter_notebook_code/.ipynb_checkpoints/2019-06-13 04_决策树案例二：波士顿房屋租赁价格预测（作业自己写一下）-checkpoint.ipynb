{
 "cells": [
  {
   "cell_type": "code",
   "execution_count": 82,
   "metadata": {
    "collapsed": true
   },
   "outputs": [],
   "source": [
    "import pandas as pd\n",
    "import numpy as np\n",
    "from sklearn.model_selection import train_test_split\n",
    "from sklearn.tree import DecisionTreeRegressor\n",
    "from sklearn.preprocessing import MinMaxScaler\n",
    "from sklearn.pipeline import Pipeline\n",
    "from sklearn.decomposition import PCA\n",
    "from sklearn.linear_model import LinearRegression\n",
    "from sklearn.linear_model import LassoCV\n",
    "from sklearn.linear_model import RidgeCV\n",
    "from sklearn.model_selection import GridSearchCV"
   ]
  },
  {
   "cell_type": "code",
   "execution_count": 63,
   "metadata": {
    "collapsed": true
   },
   "outputs": [],
   "source": [
    "def notEmpty(s):\n",
    "    return s != ''"
   ]
  },
  {
   "cell_type": "code",
   "execution_count": 64,
   "metadata": {},
   "outputs": [],
   "source": [
    "# 数据加载\n",
    "boston = pd.read_csv(filepath_or_buffer='datas/boston_housing.data',header=None)\n",
    "data = np.empty((len(boston),14))\n",
    "# enumerate：将可遍历的对象组成一个返回索引序列和对应值\n",
    "# boston.values 以每行得之组成的二维数组\n",
    "for index,values in enumerate(boston.values):\n",
    "    data[index] = list(filter(notEmpty,values[0].split(' ')))   "
   ]
  },
  {
   "cell_type": "code",
   "execution_count": 65,
   "metadata": {
    "scrolled": false
   },
   "outputs": [
    {
     "name": "stdout",
     "output_type": "stream",
     "text": [
      "样本数据量:506, 特征个数：13\n",
      "target样本数据量:506\n"
     ]
    }
   ],
   "source": [
    "X,Y = np.split(data,(13,),axis=1)\n",
    "Y = Y.reshape(-1)\n",
    "print (\"样本数据量:%d, 特征个数：%d\" % X.shape)\n",
    "print (\"target样本数据量:%d\" % Y.shape[0])"
   ]
  },
  {
   "cell_type": "code",
   "execution_count": 66,
   "metadata": {},
   "outputs": [
    {
     "name": "stdout",
     "output_type": "stream",
     "text": [
      "训练数据集样本数目：404, 测试数据集样本数目：102\n"
     ]
    }
   ],
   "source": [
    "# 训练集和测试集划分\n",
    "X_train, X_test, Y_train, Y_test = train_test_split(X, Y, test_size = 0.2,random_state = 214)\n",
    "print (\"训练数据集样本数目：%d, 测试数据集样本数目：%d\" % (X_train.shape[0], Y_test.shape[0]))"
   ]
  },
  {
   "cell_type": "code",
   "execution_count": 67,
   "metadata": {
    "scrolled": true
   },
   "outputs": [
    {
     "name": "stdout",
     "output_type": "stream",
     "text": [
      "原始数据各个特征属性的调整最小值: [ -8.59539075e-05   0.00000000e+00  -1.68621701e-02   0.00000000e+00\n",
      "  -7.92181070e-01  -6.82314620e-01  -2.98661174e-02  -1.02719857e-01\n",
      "  -4.34782609e-02  -3.56870229e-01  -1.34042553e+00  -8.06898986e-04\n",
      "  -4.77373068e-02]\n",
      "原始数据各个特征属性的缩放数据值: [  1.36003018e-02   1.00000000e-02   3.66568915e-02   1.00000000e+00\n",
      "   2.05761317e+00   1.91607588e-01   1.02986612e-02   9.09347180e-02\n",
      "   4.34782609e-02   1.90839695e-03   1.06382979e-01   2.52155933e-03\n",
      "   2.75938190e-02]\n"
     ]
    }
   ],
   "source": [
    "# 标准化 对特征属性进行标准化操作\n",
    "# x - min /(max - min) 缩放到0-1之间\n",
    "mm = MinMaxScaler()\n",
    "X_train = mm.fit_transform(X_train,Y_train)\n",
    "X_test = mm.transform(X_test)\n",
    "\n",
    "print (\"原始数据各个特征属性的调整最小值:\",mm.min_)\n",
    "print (\"原始数据各个特征属性的缩放数据值:\",mm.scale_)"
   ]
  },
  {
   "cell_type": "code",
   "execution_count": 68,
   "metadata": {
    "scrolled": false
   },
   "outputs": [
    {
     "data": {
      "text/plain": [
       "DecisionTreeRegressor(criterion='mae', max_depth=7, max_features=None,\n",
       "           max_leaf_nodes=None, min_impurity_decrease=0.0,\n",
       "           min_impurity_split=None, min_samples_leaf=1,\n",
       "           min_samples_split=2, min_weight_fraction_leaf=0.0,\n",
       "           presort=False, random_state=None, splitter='best')"
      ]
     },
     "execution_count": 68,
     "metadata": {},
     "output_type": "execute_result"
    }
   ],
   "source": [
    "# 模型对象创建(回归)\n",
    "model = DecisionTreeRegressor(criterion='mae',max_depth=7)\n",
    "# 模型训练\n",
    "model.fit(X_train,Y_train)"
   ]
  },
  {
   "cell_type": "code",
   "execution_count": 69,
   "metadata": {},
   "outputs": [
    {
     "name": "stdout",
     "output_type": "stream",
     "text": [
      "模型效果Score：0.7713772019125358\n"
     ]
    }
   ],
   "source": [
    "# 模型效果评估\n",
    "print('模型效果Score：{}'.format(model.score(X_test,Y_test)))"
   ]
  },
  {
   "cell_type": "code",
   "execution_count": 79,
   "metadata": {
    "scrolled": true
   },
   "outputs": [
    {
     "name": "stdout",
     "output_type": "stream",
     "text": [
      "线性回归模型Score：0.6695223194488773\n",
      "线性回归参数：\n",
      "[ -5.86991024   3.69428421   0.03334099   2.80386891  -7.10340807\n",
      "  21.76235208  -1.32508942 -14.81083325   5.1801444   -5.41420265\n",
      "  -9.15446403   3.3243909  -15.9303055 ]\n",
      "lass回归模型Score：0.6684691324119698\n",
      "lass回归参数：\n",
      "[ -5.67447233   3.61494365  -0.           2.80548345  -7.00469852\n",
      "  21.76024083  -1.30650309 -14.61709082   5.026602    -5.27658138\n",
      "  -9.14305336   3.30979484 -15.95343155]\n",
      "rigde回归模型Score：0.6584215078884722\n",
      "rigde回归参数：\n",
      "[ -4.85699215   3.1578429   -0.45926748   2.94946373  -6.02470574\n",
      "  20.42827283  -1.24783757 -12.89674199   4.29977518  -4.64263667\n",
      "  -9.13024411   3.24798737 -15.91383085]\n"
     ]
    }
   ],
   "source": [
    "# 线性回归\n",
    "linea_model = LinearRegression()\n",
    "linea_model.fit(X_train,Y_train)\n",
    "print('线性回归模型Score：{}'.format(linea_model.score(X_test,Y_test)))\n",
    "print('线性回归参数：')\n",
    "print(linea_model.coef_)\n",
    "\n",
    "# lass回归\n",
    "lass_model = LassoCV(alphas=np.logspace(-3,1,20))\n",
    "lass_model.fit(X_train,Y_train)\n",
    "print('lass回归模型Score：{}'.format(lass_model.score(X_test,Y_test)))\n",
    "print('lass回归参数：')\n",
    "print(lass_model.coef_)\n",
    "\n",
    "# ridge回归\n",
    "ridge_model = RidgeCV(alphas=np.logspace(-3,1,20))\n",
    "ridge_model.fit(X_train,Y_train)\n",
    "print('rigde回归模型Score：{}'.format(ridge_model.score(X_test,Y_test)))\n",
    "print('rigde回归参数：')\n",
    "print(ridge_model.coef_)"
   ]
  },
  {
   "cell_type": "code",
   "execution_count": 83,
   "metadata": {},
   "outputs": [
    {
     "ename": "NameError",
     "evalue": "name 'PCA' is not defined",
     "output_type": "error",
     "traceback": [
      "\u001b[1;31m---------------------------------------------------------------------------\u001b[0m",
      "\u001b[1;31mNameError\u001b[0m                                 Traceback (most recent call last)",
      "\u001b[1;32m<ipython-input-83-b001301254dc>\u001b[0m in \u001b[0;36m<module>\u001b[1;34m()\u001b[0m\n\u001b[0;32m      3\u001b[0m     Pipeline([\n\u001b[0;32m      4\u001b[0m         \u001b[1;33m(\u001b[0m\u001b[1;34m'mms'\u001b[0m\u001b[1;33m,\u001b[0m \u001b[0mMinMaxScaler\u001b[0m\u001b[1;33m(\u001b[0m\u001b[1;33m)\u001b[0m\u001b[1;33m)\u001b[0m\u001b[1;33m,\u001b[0m \u001b[1;31m## 归一化操作\u001b[0m\u001b[1;33m\u001b[0m\u001b[0m\n\u001b[1;32m----> 5\u001b[1;33m         \u001b[1;33m(\u001b[0m\u001b[1;34m'pca'\u001b[0m\u001b[1;33m,\u001b[0m \u001b[0mPCA\u001b[0m\u001b[1;33m(\u001b[0m\u001b[1;33m)\u001b[0m\u001b[1;33m)\u001b[0m\u001b[1;33m,\u001b[0m \u001b[1;31m## 降纬\u001b[0m\u001b[1;33m\u001b[0m\u001b[0m\n\u001b[0m\u001b[0;32m      6\u001b[0m         \u001b[1;33m(\u001b[0m\u001b[1;34m'decision'\u001b[0m\u001b[1;33m,\u001b[0m \u001b[0mDecisionTreeRegressor\u001b[0m\u001b[1;33m(\u001b[0m\u001b[0mcriterion\u001b[0m\u001b[1;33m=\u001b[0m\u001b[1;34m'mse'\u001b[0m\u001b[1;33m)\u001b[0m\u001b[1;33m)\u001b[0m\u001b[1;33m\u001b[0m\u001b[0m\n\u001b[0;32m      7\u001b[0m     ]),\n",
      "\u001b[1;31mNameError\u001b[0m: name 'PCA' is not defined"
     ]
    }
   ],
   "source": [
    "# 模型的参数组合\n",
    "pipes = [\n",
    "    Pipeline([\n",
    "        ('mms', MinMaxScaler()), ## 归一化操作\n",
    "        ('pca', PCA()), ## 降纬\n",
    "        ('decision', DecisionTreeRegressor(criterion='mse'))\n",
    "    ]),\n",
    "    \n",
    "       Pipeline([\n",
    "        ('mms', MinMaxScaler()), ## 归一化操作\n",
    "        ('decision', DecisionTreeRegressor(criterion='mse'))\n",
    "    ]),\n",
    "       Pipeline([\n",
    "        ('decision', DecisionTreeRegressor(criterion='mse'))\n",
    "    ]),\n",
    "]\n",
    "parameters = [\n",
    "    {\n",
    "    \"pca__n_components\": [0.25,0.5,0.75,1],\n",
    "    \"decision__max_depth\":  np.linspace(1,20,20).astype(np.int8)\n",
    "    },\n",
    "    {\n",
    "    \"decision__max_depth\":  np.linspace(1,20,20).astype(np.int8)\n",
    "    },\n",
    "    {\n",
    "    \"decision__max_depth\":  np.linspace(1,20,20).astype(np.int8)\n",
    "    }\n",
    "]\n",
    "for p,para in zip(pipes,parameters):    \n",
    "    algo = GridSearchCV(p, param_grid=para)\n",
    "    algo.fi"
   ]
  }
 ],
 "metadata": {
  "kernelspec": {
   "display_name": "Python 3",
   "language": "python",
   "name": "python3"
  },
  "language_info": {
   "codemirror_mode": {
    "name": "ipython",
    "version": 3
   },
   "file_extension": ".py",
   "mimetype": "text/x-python",
   "name": "python",
   "nbconvert_exporter": "python",
   "pygments_lexer": "ipython3",
   "version": "3.6.3"
  }
 },
 "nbformat": 4,
 "nbformat_minor": 2
}

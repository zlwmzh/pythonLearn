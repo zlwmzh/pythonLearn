{
 "cells": [
  {
   "cell_type": "code",
   "execution_count": 80,
   "metadata": {
    "collapsed": true
   },
   "outputs": [],
   "source": [
    "import pandas as pd\n",
    "import numpy as np\n",
    "import matplotlib as mpl\n",
    "import matplotlib.pyplot as plt\n",
    "from sklearn.model_selection import train_test_split\n",
    "from sklearn.tree import DecisionTreeClassifier"
   ]
  },
  {
   "cell_type": "code",
   "execution_count": 91,
   "metadata": {
    "collapsed": true
   },
   "outputs": [],
   "source": [
    "## 设置属性防止中文乱码\n",
    "mpl.rcParams['font.sans-serif'] = [u'SimHei']\n",
    "mpl.rcParams['axes.unicode_minus'] = False"
   ]
  },
  {
   "cell_type": "code",
   "execution_count": 81,
   "metadata": {},
   "outputs": [
    {
     "name": "stdout",
     "output_type": "stream",
     "text": [
      "总样本个数：150，特征属性个数：4\n"
     ]
    }
   ],
   "source": [
    "# 加载数据\n",
    "iris = pd.read_csv(filepath_or_buffer='./datas/iris.data',header=None)\n",
    "X = np.asarray(iris[list(range(0,4))])\n",
    "Y = np.asarray(iris[4])\n",
    "# 数据清洗、处理\n",
    "# 将Y目标属性中的字符串值转化为0.1，2.。。\n",
    "# 此处用一种新的方法\n",
    "Y = pd.Categorical(Y).codes\n",
    "print('总样本个数：%d，特征属性个数：%d' %X.shape)"
   ]
  },
  {
   "cell_type": "code",
   "execution_count": 13,
   "metadata": {},
   "outputs": [
    {
     "data": {
      "text/plain": [
       "array([0, 1, 2, 0], dtype=int8)"
      ]
     },
     "execution_count": 13,
     "metadata": {},
     "output_type": "execute_result"
    }
   ],
   "source": [
    "# 这里介绍下Categorical\n",
    "W = ['A','B','C','A']\n",
    "W = pd.Categorical(W).codes"
   ]
  },
  {
   "cell_type": "code",
   "execution_count": 16,
   "metadata": {},
   "outputs": [
    {
     "name": "stdout",
     "output_type": "stream",
     "text": [
      "训练集上的样本数目：120，测试集样本数目：30\n"
     ]
    }
   ],
   "source": [
    "# 训练集和测试集划分\n",
    "X_train, X_test, Y_train, Y_test = train_test_split(X, Y, test_size = 0.2, random_state = 214)\n",
    "print('训练集上的样本数目：%d，测试集样本数目：%d'%(X_train.shape[0],X_test.shape[0]))"
   ]
  },
  {
   "cell_type": "code",
   "execution_count": 22,
   "metadata": {
    "collapsed": true
   },
   "outputs": [],
   "source": [
    "# 模型对象构建\n",
    "# 决策树分类模型\n",
    "model = DecisionTreeClassifier(criterion='gini',max_depth=5,random_state=214)"
   ]
  },
  {
   "cell_type": "code",
   "execution_count": 23,
   "metadata": {},
   "outputs": [
    {
     "data": {
      "text/plain": [
       "DecisionTreeClassifier(class_weight=None, criterion='gini', max_depth=5,\n",
       "            max_features=None, max_leaf_nodes=None,\n",
       "            min_impurity_decrease=0.0, min_impurity_split=None,\n",
       "            min_samples_leaf=1, min_samples_split=2,\n",
       "            min_weight_fraction_leaf=0.0, presort=False, random_state=214,\n",
       "            splitter='best')"
      ]
     },
     "execution_count": 23,
     "metadata": {},
     "output_type": "execute_result"
    }
   ],
   "source": [
    "# 模型训练\n",
    "model.fit(X_train,Y_train)"
   ]
  },
  {
   "cell_type": "code",
   "execution_count": 32,
   "metadata": {},
   "outputs": [
    {
     "name": "stdout",
     "output_type": "stream",
     "text": [
      "训练集上准确率：1.0\n",
      "测试集上准确率：0.9333333333333333\n",
      "数据集目标属性：[0 1 2]\n",
      "数据集上个特征属性的权重系数,值越大，对目标属性的影响越大：[ 0.          0.03335418  0.57273615  0.39390967]\n"
     ]
    }
   ],
   "source": [
    "# 模型效果评估\n",
    "print('训练集上准确率：{}'.format(model.score(X_train,Y_train)))\n",
    "print('测试集上准确率：{}'.format(model.score(X_test,Y_test)))\n",
    "print('数据集目标属性：{}'.format(model.classes_))\n",
    "print('数据集上个特征属性的权重系数,值越大，对目标属性的影响越大：{}'.format(model.feature_importances_))"
   ]
  },
  {
   "cell_type": "code",
   "execution_count": 28,
   "metadata": {},
   "outputs": [
    {
     "name": "stdout",
     "output_type": "stream",
     "text": [
      "准确率：0.9333333333333333\n"
     ]
    }
   ],
   "source": [
    "# 自己实现准确率评估\n",
    "Y_predict_test = model.predict(X_test)\n",
    "result = (Y_predict_test == Y_test)\n",
    "print('准确率：{}'.format(np.mean(result)))"
   ]
  },
  {
   "cell_type": "code",
   "execution_count": 44,
   "metadata": {},
   "outputs": [
    {
     "name": "stdout",
     "output_type": "stream",
     "text": [
      "[ 1.    3.95  6.9 ]\n",
      "[  2.    6.5  11. ]\n",
      "[ 1.    3.95  6.9   1.    3.95  6.9   1.    3.95  6.9 ]\n",
      "[  2.    2.    2.    6.5   6.5   6.5  11.   11.   11. ]\n",
      "<numpy.flatiter object at 0x000002DF03C1FBF0>\n"
     ]
    }
   ],
   "source": [
    "# 知识点\n",
    "# 1-6.9均匀的产生三个数\n",
    "t1 = np.linspace(1,6.9,3)\n",
    "t2 = np.linspace(2.0,11.0,3)\n",
    "# 生成网格采样点\n",
    "x1,x2 = np.meshgrid(t1,t2)\n",
    "# 转换为1维数组\n",
    "x1 = x1.reshape(-1)\n",
    "x2 = x2.reshape(-1)\n",
    "print(t1)\n",
    "print(t2)\n",
    "print(x1)\n",
    "print(x2)"
   ]
  },
  {
   "cell_type": "code",
   "execution_count": 49,
   "metadata": {},
   "outputs": [
    {
     "data": {
      "text/plain": [
       "(1, 9, 2)"
      ]
     },
     "execution_count": 49,
     "metadata": {},
     "output_type": "execute_result"
    }
   ],
   "source": [
    "# flat是numpy中的属性，功能是将numpy数组转换为一维的数组形式，也就是扁平化操作。 和reshape功能差不多\n",
    "np.dstack((x1.flat,x2.flat)).shape"
   ]
  },
  {
   "cell_type": "code",
   "execution_count": 129,
   "metadata": {},
   "outputs": [
    {
     "name": "stdout",
     "output_type": "stream",
     "text": [
      "[[ 5.6  2.7  4.2  1.3]\n",
      " [ 6.8  2.8  4.8  1.4]\n",
      " [ 6.3  2.9  5.6  1.8]\n",
      " [ 6.4  3.2  4.5  1.5]\n",
      " [ 5.7  4.4  1.5  0.4]\n",
      " [ 6.7  3.1  4.4  1.4]\n",
      " [ 6.3  2.8  5.1  1.5]\n",
      " [ 7.7  3.   6.1  2.3]\n",
      " [ 5.5  2.4  3.8  1.1]\n",
      " [ 6.   3.4  4.5  1.6]\n",
      " [ 5.4  3.4  1.5  0.4]\n",
      " [ 4.9  2.5  4.5  1.7]\n",
      " [ 5.1  3.5  1.4  0.2]\n",
      " [ 5.   3.5  1.3  0.3]\n",
      " [ 5.2  3.4  1.4  0.2]\n",
      " [ 6.3  3.3  6.   2.5]\n",
      " [ 5.1  3.8  1.9  0.4]\n",
      " [ 5.8  2.8  5.1  2.4]\n",
      " [ 7.2  3.6  6.1  2.5]\n",
      " [ 5.5  2.6  4.4  1.2]\n",
      " [ 6.8  3.2  5.9  2.3]\n",
      " [ 6.5  3.2  5.1  2. ]\n",
      " [ 6.7  3.   5.2  2.3]\n",
      " [ 5.5  2.3  4.   1.3]\n",
      " [ 6.7  2.5  5.8  1.8]\n",
      " [ 5.7  2.9  4.2  1.3]\n",
      " [ 4.6  3.2  1.4  0.2]\n",
      " [ 5.8  2.6  4.   1.2]\n",
      " [ 5.4  3.9  1.3  0.4]\n",
      " [ 7.   3.2  4.7  1.4]]\n",
      "6.9 1.0 2.5 0.1\n"
     ]
    }
   ],
   "source": [
    "# 可视化操作\n",
    "N = 100 # 横纵各采样100个值\n",
    "# 获取第三个特征属性和第四个特征属性的最小值和最大值\n",
    "x1_max = np.max(X[:,2])\n",
    "x1_min = np.min(X[:,2])\n",
    "x2_max = np.max(X[:,3])\n",
    "x2_min = np.min(X[:,3])\n",
    "print(x1_max, x1_min,x2_max,x2_min)\n",
    "# 等距离从最大值和最小值之间产生100个点\n",
    "t1 = np.linspace(x1_min,x1_max,N)\n",
    "t2 = np.linspace(x2_min,x2_max,N)\n",
    "# 生成网格采样点\n",
    "x1, x2 = np.meshgrid(t1,t2)\n",
    "x_show = np.dstack((x1.flat,x2.flat))[0]\n",
    "# 重新训练模型，生成预测值\n",
    "model.fit(X_train[:,:-2],Y_train)\n",
    "y_show = model.predict(x_show)"
   ]
  },
  {
   "cell_type": "code",
   "execution_count": 134,
   "metadata": {
    "scrolled": false
   },
   "outputs": [
    {
     "data": {
      "image/png": "[encoded data removed]",
      "text/plain": [
       "<matplotlib.figure.Figure at 0x2df094804e0>"
      ]
     },
     "metadata": {},
     "output_type": "display_data"
    }
   ],
   "source": [
    "plt_light = mpl.colors.ListedColormap(['#A0FFA0', '#FFA0A0', '#A0A0FF'])\n",
    "plt_dark = mpl.colors.ListedColormap(['g', 'r', 'b'])\n",
    "\n",
    "plt.figure(facecolor='w')\n",
    "## 画一个区域图（第一个参数是横坐标的值、第二个参数是纵坐标的值、第三个参数是坐标点对应的类别、第四个是各个类别分布使用什么现实进行现实）\n",
    "plt.pcolormesh(x1, x2, y_show.reshape(x1.shape), cmap=plt_light) \n",
    "X_test_1 = X_test[:,2]\n",
    "X_test_2 = X_test[:,3]\n",
    "X_train_1 = X_train[:,2]\n",
    "X_train_2 = X_train[:,3]\n",
    "# 画测试数据的点信息(画五角星)\n",
    "plt.scatter(X_test_1, X_test_2, c=Y_test.ravel(), edgecolors='k', s=150, zorder=10, cmap=plt_dark, marker='*')  # 测试数据\n",
    "# # 画训练数据的点信息(画圆)\n",
    "plt.scatter(X_train_1, X_train_2, c=Y_train.ravel(), edgecolors='k', s=40, cmap=plt_dark)  # 全部数据\n",
    "plt.xlabel(u'特征属性1', fontsize=15)\n",
    "plt.ylabel(u'特征属性2', fontsize=15)\n",
    "plt.xlim(x1_min, x1_max)\n",
    "plt.ylim(x2_min, x2_max)\n",
    "plt.grid(True)\n",
    "plt.title(u'鸢尾花数据的决策树分类', fontsize=18)\n",
    "plt.show()"
   ]
  }
 ],
 "metadata": {
  "kernelspec": {
   "display_name": "Python 3",
   "language": "python",
   "name": "python3"
  },
  "language_info": {
   "codemirror_mode": {
    "name": "ipython",
    "version": 3
   },
   "file_extension": ".py",
   "mimetype": "text/x-python",
   "name": "python",
   "nbconvert_exporter": "python",
   "pygments_lexer": "ipython3",
   "version": "3.6.3"
  }
 },
 "nbformat": 4,
 "nbformat_minor": 2
}

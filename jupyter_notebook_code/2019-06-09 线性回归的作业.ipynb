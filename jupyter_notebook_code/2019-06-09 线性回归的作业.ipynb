{
 "cells": [
  {
   "cell_type": "code",
   "execution_count": 2,
   "metadata": {},
   "outputs": [
    {
     "data": {
      "text/plain": [
       "'\\n假设当前模型参数为θ, 每个样本的损失函数化简后为:\\n\\tJ=θ**2 - b*θ + c\\n的形式，b和c的取值情况满足下列的数据特征：\\n  b服从均值为-1，标准差为1的高斯正态分布的随机数\\n  c服从均值为5，标准差为1的高斯正态分布的随机数\\n求解：\\n  -1. 当m=1的时候，所有样本损失函数最优的θ值。(假定b=-1, c=5)\\n  -2. 当m=2的时候，所有样本损失函数最优的θ值。\\n  -3. 当m=10的时候，所有样本损失函数最优的θ值。\\n  -4. 当m=100的时候，所有样本损失函数最优的θ值。\\n  -5. 当m=1000的时候，所有样本损失函数最优的θ值。\\nNOTE：考虑一下可视化它的变化过程(损失函数以及每次更新的θ值大小以及θ的变化情况)。\\nNOTE: 这里的1、2、3、4、5其实是BGD的实现，如果上面几个都实现了，考虑一下SGD以及MBGD的实现(只需要考虑m=1000)\\n'"
      ]
     },
     "execution_count": 2,
     "metadata": {},
     "output_type": "execute_result"
    }
   ],
   "source": [
    "\"\"\"\n",
    "假设当前模型参数为θ, 每个样本的损失函数化简后为:\n",
    "\tJ=θ**2 - b*θ + c\n",
    "的形式，b和c的取值情况满足下列的数据特征：\n",
    "  b服从均值为-1，标准差为1的高斯正态分布的随机数\n",
    "  c服从均值为5，标准差为1的高斯正态分布的随机数\n",
    "求解：\n",
    "  -1. 当m=1的时候，所有样本损失函数最优的θ值。(假定b=-1, c=5)\n",
    "  -2. 当m=2的时候，所有样本损失函数最优的θ值。\n",
    "  -3. 当m=10的时候，所有样本损失函数最优的θ值。\n",
    "  -4. 当m=100的时候，所有样本损失函数最优的θ值。\n",
    "  -5. 当m=1000的时候，所有样本损失函数最优的θ值。\n",
    "NOTE：考虑一下可视化它的变化过程(损失函数以及每次更新的θ值大小以及θ的变化情况)。\n",
    "NOTE: 这里的1、2、3、4、5其实是BGD的实现，如果上面几个都实现了，考虑一下SGD以及MBGD的实现(只需要考虑m=1000)\n",
    "\"\"\""
   ]
  },
  {
   "cell_type": "code",
   "execution_count": 7,
   "metadata": {
    "collapsed": true
   },
   "outputs": [],
   "source": [
    "import numpy as np"
   ]
  },
  {
   "cell_type": "code",
   "execution_count": 61,
   "metadata": {},
   "outputs": [],
   "source": [
    "# 生成符合正态分布的数据\n",
    "def buildNormalDistribution(mean, std):\n",
    "    # loc：float\n",
    "    # 此概率分布的均值（对应着整个分布的中心centre）\n",
    "    # scale：float\n",
    "    # 此概率分布的标准差（对应于分布的宽度，scale越大越矮胖，scale越小，越瘦高）\n",
    "    # size：int or tuple of ints\n",
    "    # 输出的shape，默认为None，只输出一个值\n",
    "    return np.random.normal(loc = mean, scale = std, size= 10)"
   ]
  },
  {
   "cell_type": "code",
   "execution_count": 87,
   "metadata": {},
   "outputs": [
    {
     "name": "stdout",
     "output_type": "stream",
     "text": [
      "[ 0.17060313 -3.13671856 -0.78679271 -0.01766195 -2.52632279 -2.49699274\n",
      " -2.09786649  0.48484029 -0.67319852  0.02081404] [ 5.04292589  5.07003955  4.84688549  4.9750817   6.22087939  3.54413482\n",
      "  4.57659944  3.93601891  5.42670711  4.69373491]\n"
     ]
    }
   ],
   "source": [
    "b = buildNormalDistribution(-1, 1)\n",
    "c = buildNormalDistribution(5, 1)\n",
    "print(b,c)\n",
    "# 原函数\n",
    "def J(θ):\n",
    "    b1 = b[0]\n",
    "    c1 = c[0]\n",
    "    print(θ,b1,c1)\n",
    "    return θ ** 2 - b1 * θ + c1\n",
    "# 一阶导函数\n",
    "def J_(θ):\n",
    "    b1 = b[0]\n",
    "    return 2 * θ - b1"
   ]
  },
  {
   "cell_type": "code",
   "execution_count": 69,
   "metadata": {
    "collapsed": true
   },
   "outputs": [],
   "source": [
    "def getBGDGD(θ):\n",
    "    return np.sum(J_(θ))"
   ]
  },
  {
   "cell_type": "code",
   "execution_count": 124,
   "metadata": {},
   "outputs": [
    {
     "name": "stdout",
     "output_type": "stream",
     "text": [
      "1 0.170603130657 5.04292589291\n",
      "5.87232276325\n",
      "最终结果为:(1.00000, 5.87232)\n"
     ]
    }
   ],
   "source": [
    "GD_Theta = []\n",
    "alpha = 0.05\n",
    "t1 =1\n",
    "f_current = J(t1)\n",
    "print(f_change)\n",
    "f_change = f_current + 1e-9\n",
    "GD_Theta.append(t1)\n",
    "for item_num in range(0,10):\n",
    "    if f_change > 1e-10:\n",
    "        break\n",
    "    # 更新模型    \n",
    "    t1 = t1 - alpha * getBGDGD(t1) / len(b)\n",
    "    tmp = J(t1)\n",
    "    f_change = np.abs(f_current - tmp)\n",
    "    f_current = tmp\n",
    "    GD_Theta.append(t1)\n",
    "    GD_Y.append(f_current)\n",
    "print(u\"最终结果为:(%.5f, %.5f)\" % (t1,f_current)) "
   ]
  }
 ],
 "metadata": {
  "kernelspec": {
   "display_name": "Python 3",
   "language": "python",
   "name": "python3"
  },
  "language_info": {
   "codemirror_mode": {
    "name": "ipython",
    "version": 3
   },
   "file_extension": ".py",
   "mimetype": "text/x-python",
   "name": "python",
   "nbconvert_exporter": "python",
   "pygments_lexer": "ipython3",
   "version": "3.6.3"
  },
  "toc": {
   "base_numbering": 1,
   "nav_menu": {},
   "number_sections": true,
   "sideBar": true,
   "skip_h1_title": false,
   "title_cell": "Table of Contents",
   "title_sidebar": "Contents",
   "toc_cell": false,
   "toc_position": {},
   "toc_section_display": true,
   "toc_window_display": false
  }
 },
 "nbformat": 4,
 "nbformat_minor": 2
}

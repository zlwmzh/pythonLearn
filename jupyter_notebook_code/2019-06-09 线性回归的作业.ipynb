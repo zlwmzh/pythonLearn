{
 "cells": [
  {
   "cell_type": "code",
   "execution_count": 2,
   "metadata": {},
   "outputs": [
    {
     "data": {
      "text/plain": [
       "'\\n假设当前模型参数为θ, 每个样本的损失函数化简后为:\\n\\tJ=θ**2 - b*θ + c\\n的形式，b和c的取值情况满足下列的数据特征：\\n  b服从均值为-1，标准差为1的高斯正态分布的随机数\\n  c服从均值为5，标准差为1的高斯正态分布的随机数\\n求解：\\n  -1. 当m=1的时候，所有样本损失函数最优的θ值。(假定b=-1, c=5)\\n  -2. 当m=2的时候，所有样本损失函数最优的θ值。\\n  -3. 当m=10的时候，所有样本损失函数最优的θ值。\\n  -4. 当m=100的时候，所有样本损失函数最优的θ值。\\n  -5. 当m=1000的时候，所有样本损失函数最优的θ值。\\nNOTE：考虑一下可视化它的变化过程(损失函数以及每次更新的θ值大小以及θ的变化情况)。\\nNOTE: 这里的1、2、3、4、5其实是BGD的实现，如果上面几个都实现了，考虑一下SGD以及MBGD的实现(只需要考虑m=1000)\\n'"
      ]
     },
     "execution_count": 2,
     "metadata": {},
     "output_type": "execute_result"
    }
   ],
   "source": [
    "\"\"\"\n",
    "假设当前模型参数为θ, 每个样本的损失函数化简后为:\n",
    "\tJ=θ**2 - b*θ + c\n",
    "的形式，b和c的取值情况满足下列的数据特征：\n",
    "  b服从均值为-1，标准差为1的高斯正态分布的随机数\n",
    "  c服从均值为5，标准差为1的高斯正态分布的随机数\n",
    "求解：\n",
    "  -1. 当m=1的时候，所有样本损失函数最优的θ值。(假定b=-1, c=5)\n",
    "  -2. 当m=2的时候，所有样本损失函数最优的θ值。\n",
    "  -3. 当m=10的时候，所有样本损失函数最优的θ值。\n",
    "  -4. 当m=100的时候，所有样本损失函数最优的θ值。\n",
    "  -5. 当m=1000的时候，所有样本损失函数最优的θ值。\n",
    "NOTE：考虑一下可视化它的变化过程(损失函数以及每次更新的θ值大小以及θ的变化情况)。\n",
    "NOTE: 这里的1、2、3、4、5其实是BGD的实现，如果上面几个都实现了，考虑一下SGD以及MBGD的实现(只需要考虑m=1000)\n",
    "\"\"\""
   ]
  },
  {
   "cell_type": "code",
   "execution_count": 16,
   "metadata": {
    "collapsed": true
   },
   "outputs": [],
   "source": [
    "import numpy as np\n",
    "import matplotlib.pyplot as plt\n",
    "import matplotlib as mpl "
   ]
  },
  {
   "cell_type": "code",
   "execution_count": 39,
   "metadata": {
    "collapsed": true
   },
   "outputs": [],
   "source": [
    "# 设置在jupyter中matplotlib的显示情况（表示不是嵌入显示）\n",
    "%matplotlib tk"
   ]
  },
  {
   "cell_type": "code",
   "execution_count": 17,
   "metadata": {},
   "outputs": [],
   "source": [
    "# 解决中文显示问题\n",
    "mpl.rcParams['font.sans-serif'] = [u'SimHei']\n",
    "mpl.rcParams['axes.unicode_minus'] = False"
   ]
  },
  {
   "cell_type": "code",
   "execution_count": 4,
   "metadata": {
    "collapsed": true
   },
   "outputs": [],
   "source": [
    "# 生成符合正态分布的数据\n",
    "def buildNormalDistribution(mean, std):\n",
    "    # loc：float\n",
    "    # 此概率分布的均值（对应着整个分布的中心centre）\n",
    "    # scale：float\n",
    "    # 此概率分布的标准差（对应于分布的宽度，scale越大越矮胖，scale越小，越瘦高）\n",
    "    # size：int or tuple of ints\n",
    "    # 输出的shape，默认为None，只输出一个值\n",
    "    return np.random.normal(loc = mean, scale = std, size= 1)"
   ]
  },
  {
   "cell_type": "code",
   "execution_count": 5,
   "metadata": {},
   "outputs": [
    {
     "name": "stdout",
     "output_type": "stream",
     "text": [
      "[-0.17790943] [ 5.25281752]\n"
     ]
    }
   ],
   "source": [
    "b = buildNormalDistribution(-1, 1)\n",
    "c = buildNormalDistribution(5, 1)\n",
    "print(b,c)\n",
    "# 原函数\n",
    "def J(θ):\n",
    "    return θ ** 2 - b * θ + c\n",
    "# 一阶导函数\n",
    "def J_(θ):\n",
    "    return 2 * θ - b\n"
   ]
  },
  {
   "cell_type": "code",
   "execution_count": 6,
   "metadata": {
    "collapsed": true
   },
   "outputs": [],
   "source": [
    "def getBGDGD(θ):\n",
    "    return np.sum(J_(θ))"
   ]
  },
  {
   "cell_type": "code",
   "execution_count": 46,
   "metadata": {},
   "outputs": [
    {
     "name": "stdout",
     "output_type": "stream",
     "text": [
      "最终结果为:(-0.08895, 5.24490)\n",
      "迭代过程中X的取值，迭代次数:2\n",
      "[-0.17790943, -0.088954713068525149, -0.088954713068525149]\n"
     ]
    }
   ],
   "source": [
    "GD_Theta = []\n",
    "GD_Y = []\n",
    "alpha = 0.5\n",
    "t1 =-0.17790943\n",
    "f_current = J(t1)\n",
    "f_change = f_current\n",
    "GD_Theta.append(t1)\n",
    "GD_Y.append(f_current)\n",
    "item_num = 0\n",
    "while f_change > 1e-10 and item_num < 100:\n",
    "    item_num += 1\n",
    "     # 更新模型    \n",
    "    t1 = t1 - alpha * getBGDGD(t1) / len(b)\n",
    "    tmp = J(t1)\n",
    "    f_change = np.abs(f_current - tmp)\n",
    "    f_current = tmp\n",
    "    GD_Theta.append(t1)\n",
    "    GD_Y.append(f_current)\n",
    "print(u\"最终结果为:(%.5f, %.5f)\" % (t1,f_current)) \n",
    "print(u\"迭代过程中X的取值，迭代次数:%d\" % item_num)\n",
    "print(GD_Theta)\n",
    "\n",
    "T = np.arange(-0.18,0.18,0.005)\n",
    "Y = np.array(list(map(lambda t: J(t), T)))\n",
    "\n",
    "# 画图\n",
    "plt.figure(facecolor='w')\n",
    "plt.plot(T, Y, 'r-', linewidth=2)\n",
    "plt.plot(GD_Theta, GD_Y, 'bo--', linewidth=2)\n",
    "plt.title(u'函数$y=θ^2 - b * θ + c$; \\n学习率:%.3f; 最终解:(%.3f, %.3f);迭代次数:%d' % (alpha, t1, f_current, item_num))\n",
    "plt.show()"
   ]
  }
 ],
 "metadata": {
  "kernelspec": {
   "display_name": "Python 3",
   "language": "python",
   "name": "python3"
  },
  "language_info": {
   "codemirror_mode": {
    "name": "ipython",
    "version": 3
   },
   "file_extension": ".py",
   "mimetype": "text/x-python",
   "name": "python",
   "nbconvert_exporter": "python",
   "pygments_lexer": "ipython3",
   "version": "3.6.3"
  },
  "toc": {
   "base_numbering": 1,
   "nav_menu": {},
   "number_sections": true,
   "sideBar": true,
   "skip_h1_title": false,
   "title_cell": "Table of Contents",
   "title_sidebar": "Contents",
   "toc_cell": false,
   "toc_position": {},
   "toc_section_display": true,
   "toc_window_display": false
  }
 },
 "nbformat": 4,
 "nbformat_minor": 2
}
